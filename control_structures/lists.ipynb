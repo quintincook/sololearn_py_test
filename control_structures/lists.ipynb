{
 "cells": [
  {
   "cell_type": "code",
   "execution_count": 4,
   "metadata": {},
   "outputs": [
    {
     "name": "stdout",
     "output_type": "stream",
     "text": [
      "Hello\n",
      "world\n",
      "world!\n"
     ]
    }
   ],
   "source": [
    "#lists are used to store items \n",
    "# a list is created using square brackets with commas separating items\n",
    "words = [\"Hello\", \"world\", \"!\"]\n",
    "print(words[0])\n",
    "print(words[1])\n",
    "print(words[1] + words[2])"
   ]
  },
  {
   "cell_type": "code",
   "execution_count": 5,
   "metadata": {},
   "outputs": [
    {
     "name": "stdout",
     "output_type": "stream",
     "text": [
      "[]\n"
     ]
    }
   ],
   "source": [
    "#some times you need to create an empty list and popluate it later during the program \n",
    "# for example, if you are cleating a queue managment program, the queue is going to be empty in the beginning and get populated with people data later\n",
    "# an empty list is created with an empty pair of square brackets\n",
    "empty_list = []\n",
    "print(empty_list)"
   ]
  },
  {
   "cell_type": "code",
   "execution_count": 11,
   "metadata": {},
   "outputs": [
    {
     "name": "stdout",
     "output_type": "stream",
     "text": [
      "Wrong number\n"
     ]
    }
   ],
   "source": [
    "fruits = [\"apple\", \"cherry\", \"banana\", \"kiwi\", \"lemon\", \"pear\", \"peach\", \"avocado\"]\n",
    "num = int(input())\n",
    "if (num< 0 or num > 7): \n",
    "    print(\"Wrong number\")\n",
    "else: \n",
    "    print(fruits[num])"
   ]
  },
  {
   "cell_type": "code",
   "execution_count": 14,
   "metadata": {},
   "outputs": [
    {
     "name": "stdout",
     "output_type": "stream",
     "text": [
      "0\n",
      "[1, 2, 3]\n",
      "3\n",
      "6\n"
     ]
    }
   ],
   "source": [
    "#typically, a list will contain items of a single item type, but it is also possible to include several different types\n",
    "#lists can also be nested within other lists \n",
    "number = 3\n",
    "things =[\"string\", 0, [1,2, number], 4.56]\n",
    "print(things[1])\n",
    "print(things[2])\n",
    "print(things[2][2])\n",
    "\n",
    "#nested lists canbe used to represent 2D grids, such as matrices\n",
    "m = [ \n",
    "    [1, 2, 3],\n",
    "    [4, 5, 6]\n",
    "    ]\n",
    "print(m[1][2])\n",
    "# a matric-like structure can be used in cases where you need to store data i a row-clumn format. \n",
    "#for example, when creating a ticketing program, the seat numbers can be stored in a matrix, with their corresponding rows and numbers"
   ]
  },
  {
   "cell_type": "code",
   "execution_count": 16,
   "metadata": {},
   "outputs": [
    {
     "name": "stdout",
     "output_type": "stream",
     "text": [
      " \n"
     ]
    }
   ],
   "source": [
    "# some types, such as strings, can be indexed like lists. \n",
    "#indexing strings behaves as though you are indexing a list containig each character in the string \n",
    "str = \"Hello world!\" \n",
    "print(str[6])"
   ]
  }
 ],
 "metadata": {
  "interpreter": {
   "hash": "8f4cf76ab17ded7e025423da2bcb7983dd06b96b572edd1e63abcfc0f8c4bde4"
  },
  "kernelspec": {
   "display_name": "Python 3.10.4 64-bit",
   "language": "python",
   "name": "python3"
  },
  "language_info": {
   "codemirror_mode": {
    "name": "ipython",
    "version": 3
   },
   "file_extension": ".py",
   "mimetype": "text/x-python",
   "name": "python",
   "nbconvert_exporter": "python",
   "pygments_lexer": "ipython3",
   "version": "3.10.4"
  },
  "orig_nbformat": 4
 },
 "nbformat": 4,
 "nbformat_minor": 2
}
